{
 "cells": [
  {
   "cell_type": "markdown",
   "metadata": {},
   "source": [
    "# 1. Import Dependencies"
   ]
  },
  {
   "cell_type": "code",
   "execution_count": 1,
   "metadata": {},
   "outputs": [
    {
     "name": "stdout",
     "output_type": "stream",
     "text": [
      "Collecting opencv-python\n",
      "  Obtaining dependency information for opencv-python from https://files.pythonhosted.org/packages/a6/08/583e1d8d589e80a702815f58daa317bd469a32c7dc339394e2a0dc14318b/opencv_python-4.8.0.74-cp37-abi3-win_amd64.whl.metadata\n",
      "  Using cached opencv_python-4.8.0.74-cp37-abi3-win_amd64.whl.metadata (19 kB)\n",
      "Requirement already satisfied: numpy>=1.21.2 in c:\\dharun\\object_detection\\tfodcourse\\tfod2\\lib\\site-packages (from opencv-python) (1.25.1)\n",
      "Using cached opencv_python-4.8.0.74-cp37-abi3-win_amd64.whl (38.1 MB)\n",
      "Installing collected packages: opencv-python\n",
      "Successfully installed opencv-python-4.8.0.74\n"
     ]
    }
   ],
   "source": [
    "!pip install opencv-python"
   ]
  },
  {
   "cell_type": "code",
   "execution_count": 2,
   "metadata": {},
   "outputs": [],
   "source": [
    "# Import opencv\n",
    "import cv2 \n",
    "\n",
    "# Import uuid\n",
    "import uuid\n",
    "\n",
    "# Import Operating System\n",
    "import os\n",
    "\n",
    "# Import time\n",
    "import time"
   ]
  },
  {
   "cell_type": "markdown",
   "metadata": {},
   "source": [
    "# 2. Define Images to Collect"
   ]
  },
  {
   "cell_type": "code",
   "execution_count": 3,
   "metadata": {},
   "outputs": [],
   "source": [
    "labels = ['thumbsup', 'thumbsdown', 'thankyou', 'livelong']\n",
    "number_imgs = 5"
   ]
  },
  {
   "cell_type": "markdown",
   "metadata": {},
   "source": [
    "# 3. Setup Folders "
   ]
  },
  {
   "cell_type": "code",
   "execution_count": 4,
   "metadata": {},
   "outputs": [],
   "source": [
    "IMAGES_PATH = os.path.join('Tensorflow', 'workspace', 'images', 'collectedimages')"
   ]
  },
  {
   "cell_type": "code",
   "execution_count": 5,
   "metadata": {},
   "outputs": [],
   "source": [
    "if not os.path.exists(IMAGES_PATH):\n",
    "    if os.name == 'posix':\n",
    "        !mkdir -p {IMAGES_PATH}\n",
    "    if os.name == 'nt':\n",
    "         !mkdir {IMAGES_PATH}\n",
    "for label in labels:\n",
    "    path = os.path.join(IMAGES_PATH, label)\n",
    "    if not os.path.exists(path):\n",
    "        !mkdir {path}"
   ]
  },
  {
   "cell_type": "markdown",
   "metadata": {},
   "source": [
    "# 4. Capture Images"
   ]
  },
  {
   "cell_type": "code",
   "execution_count": 6,
   "metadata": {},
   "outputs": [
    {
     "name": "stdout",
     "output_type": "stream",
     "text": [
      "Collecting images for thumbsup\n",
      "Collecting image 0\n",
      "Collecting image 1\n",
      "Collecting image 2\n",
      "Collecting image 3\n",
      "Collecting image 4\n",
      "Collecting images for thumbsdown\n",
      "Collecting image 0\n",
      "Collecting image 1\n",
      "Collecting image 2\n",
      "Collecting image 3\n",
      "Collecting image 4\n",
      "Collecting images for thankyou\n",
      "Collecting image 0\n",
      "Collecting image 1\n",
      "Collecting image 2\n",
      "Collecting image 3\n",
      "Collecting image 4\n",
      "Collecting images for livelong\n",
      "Collecting image 0\n",
      "Collecting image 1\n",
      "Collecting image 2\n",
      "Collecting image 3\n",
      "Collecting image 4\n"
     ]
    }
   ],
   "source": [
    "for label in labels:\n",
    "    cap = cv2.VideoCapture(0)\n",
    "    print('Collecting images for {}'.format(label))\n",
    "    time.sleep(5)\n",
    "    for imgnum in range(number_imgs):\n",
    "        print('Collecting image {}'.format(imgnum))\n",
    "        ret, frame = cap.read()\n",
    "        imgname = os.path.join(IMAGES_PATH,label,label+'.'+'{}.jpg'.format(str(uuid.uuid1())))\n",
    "        cv2.imwrite(imgname, frame)\n",
    "        cv2.imshow('frame', frame)\n",
    "        time.sleep(2)\n",
    "\n",
    "        if cv2.waitKey(1) & 0xFF == ord('q'):\n",
    "            break\n",
    "cap.release()\n",
    "cv2.destroyAllWindows()"
   ]
  },
  {
   "cell_type": "markdown",
   "metadata": {},
   "source": [
    "# 5. Image Labelling"
   ]
  },
  {
   "cell_type": "code",
   "execution_count": 7,
   "metadata": {},
   "outputs": [
    {
     "name": "stdout",
     "output_type": "stream",
     "text": [
      "Collecting pyqt5\n",
      "  Using cached PyQt5-5.15.9-cp37-abi3-win_amd64.whl (6.8 MB)\n",
      "Collecting lxml\n",
      "  Obtaining dependency information for lxml from https://files.pythonhosted.org/packages/50/ba/cb7bc9728a3be4e00dfd658fc76dc64fd9dbc3d5492ff44cda70574329c6/lxml-4.9.3-cp310-cp310-win_amd64.whl.metadata\n",
      "  Using cached lxml-4.9.3-cp310-cp310-win_amd64.whl.metadata (3.9 kB)\n",
      "Collecting PyQt5-sip<13,>=12.11 (from pyqt5)\n",
      "  Using cached PyQt5_sip-12.12.1-cp310-cp310-win_amd64.whl (78 kB)\n",
      "Collecting PyQt5-Qt5>=5.15.2 (from pyqt5)\n",
      "  Using cached PyQt5_Qt5-5.15.2-py3-none-win_amd64.whl (50.1 MB)\n",
      "Using cached lxml-4.9.3-cp310-cp310-win_amd64.whl (3.8 MB)\n",
      "Installing collected packages: PyQt5-Qt5, PyQt5-sip, lxml, pyqt5\n",
      "Successfully installed PyQt5-Qt5-5.15.2 PyQt5-sip-12.12.1 lxml-4.9.3 pyqt5-5.15.9\n"
     ]
    }
   ],
   "source": [
    "!pip install --upgrade pyqt5 lxml"
   ]
  },
  {
   "cell_type": "code",
   "execution_count": 8,
   "metadata": {},
   "outputs": [],
   "source": [
    "LABELIMG_PATH = os.path.join('Tensorflow', 'labelimg')"
   ]
  },
  {
   "cell_type": "code",
   "execution_count": 9,
   "metadata": {},
   "outputs": [
    {
     "name": "stderr",
     "output_type": "stream",
     "text": [
      "Cloning into 'Tensorflow\\labelimg'...\n"
     ]
    }
   ],
   "source": [
    "if not os.path.exists(LABELIMG_PATH):\n",
    "    !mkdir {LABELIMG_PATH}\n",
    "    !git clone https://github.com/tzutalin/labelImg {LABELIMG_PATH}"
   ]
  },
  {
   "cell_type": "code",
   "execution_count": 10,
   "metadata": {},
   "outputs": [],
   "source": [
    "if os.name == 'posix':\n",
    "    !make qt5py3\n",
    "if os.name =='nt':\n",
    "    !cd {LABELIMG_PATH} && pyrcc5 -o libs/resources.py resources.qrc"
   ]
  },
  {
   "cell_type": "code",
   "execution_count": 11,
   "metadata": {},
   "outputs": [
    {
     "name": "stdout",
     "output_type": "stream",
     "text": [
      "Image:C:\\dharun\\object_detection\\TFODCourse\\Tensorflow\\workspace\\images\\collectedimages\\livelong\\livelong.aa669d5e-2897-11ee-b5a8-0045e2325396.jpg -> Annotation:C:/dharun/object_detection/TFODCourse/Tensorflow/workspace/images/collectedimages/livelong\\livelong.aa669d5e-2897-11ee-b5a8-0045e2325396.xml\n",
      "Image:C:\\dharun\\object_detection\\TFODCourse\\Tensorflow\\workspace\\images\\collectedimages\\livelong\\livelong.aba05016-2897-11ee-9fad-0045e2325396.jpg -> Annotation:C:/dharun/object_detection/TFODCourse/Tensorflow/workspace/images/collectedimages/livelong\\livelong.aba05016-2897-11ee-9fad-0045e2325396.xml\n",
      "Image:C:\\dharun\\object_detection\\TFODCourse\\Tensorflow\\workspace\\images\\collectedimages\\livelong\\livelong.acd858c0-2897-11ee-a741-0045e2325396.jpg -> Annotation:C:/dharun/object_detection/TFODCourse/Tensorflow/workspace/images/collectedimages/livelong\\livelong.acd858c0-2897-11ee-a741-0045e2325396.xml\n",
      "Image:C:\\dharun\\object_detection\\TFODCourse\\Tensorflow\\workspace\\images\\collectedimages\\livelong\\livelong.ae1157c3-2897-11ee-b9dc-0045e2325396.jpg -> Annotation:C:/dharun/object_detection/TFODCourse/Tensorflow/workspace/images/collectedimages/livelong\\livelong.ae1157c3-2897-11ee-b9dc-0045e2325396.xml\n",
      "Image:C:\\dharun\\object_detection\\TFODCourse\\Tensorflow\\workspace\\images\\collectedimages\\livelong\\livelong.af496215-2897-11ee-9e8b-0045e2325396.jpg -> Annotation:C:/dharun/object_detection/TFODCourse/Tensorflow/workspace/images/collectedimages/livelong\\livelong.af496215-2897-11ee-9e8b-0045e2325396.xml\n",
      "Image:C:\\dharun\\object_detection\\TFODCourse\\Tensorflow\\workspace\\images\\collectedimages\\thankyou\\thankyou.a2d1dfbd-2897-11ee-9d1c-0045e2325396.jpg -> Annotation:C:/dharun/object_detection/TFODCourse/Tensorflow/workspace/images/collectedimages/thankyou\\thankyou.a2d1dfbd-2897-11ee-9d1c-0045e2325396.xml\n",
      "Image:C:\\dharun\\object_detection\\TFODCourse\\Tensorflow\\workspace\\images\\collectedimages\\thankyou\\thankyou.a40a9b7e-2897-11ee-8728-0045e2325396.jpg -> Annotation:C:/dharun/object_detection/TFODCourse/Tensorflow/workspace/images/collectedimages/thankyou\\thankyou.a40a9b7e-2897-11ee-8728-0045e2325396.xml\n",
      "Image:C:\\dharun\\object_detection\\TFODCourse\\Tensorflow\\workspace\\images\\collectedimages\\thankyou\\thankyou.a061a234-2897-11ee-a6de-0045e2325396.jpg -> Annotation:C:/dharun/object_detection/TFODCourse/Tensorflow/workspace/images/collectedimages/thankyou\\thankyou.a061a234-2897-11ee-a6de-0045e2325396.xml\n",
      "Image:C:\\dharun\\object_detection\\TFODCourse\\Tensorflow\\workspace\\images\\collectedimages\\thankyou\\thankyou.a199d457-2897-11ee-8f91-0045e2325396.jpg -> Annotation:C:/dharun/object_detection/TFODCourse/Tensorflow/workspace/images/collectedimages/thankyou\\thankyou.a199d457-2897-11ee-8f91-0045e2325396.xml\n",
      "Image:C:\\dharun\\object_detection\\TFODCourse\\Tensorflow\\workspace\\images\\collectedimages\\thankyou\\thankyou.a543cfb8-2897-11ee-8ab5-0045e2325396.jpg -> Annotation:C:/dharun/object_detection/TFODCourse/Tensorflow/workspace/images/collectedimages/thankyou\\thankyou.a543cfb8-2897-11ee-8ab5-0045e2325396.xml\n",
      "Cancel creation.\n",
      "Image:C:\\dharun\\object_detection\\TFODCourse\\Tensorflow\\workspace\\images\\collectedimages\\thumbsdown\\thumbsdown.9a00b8df-2897-11ee-8a15-0045e2325396.jpg -> Annotation:C:/dharun/object_detection/TFODCourse/Tensorflow/workspace/images/collectedimages/thumbsdown\\thumbsdown.9a00b8df-2897-11ee-8a15-0045e2325396.xml\n",
      "Image:C:\\dharun\\object_detection\\TFODCourse\\Tensorflow\\workspace\\images\\collectedimages\\thumbsdown\\thumbsdown.9b39dcac-2897-11ee-9fbd-0045e2325396.jpg -> Annotation:C:/dharun/object_detection/TFODCourse/Tensorflow/workspace/images/collectedimages/thumbsdown\\thumbsdown.9b39dcac-2897-11ee-9fbd-0045e2325396.xml\n",
      "Image:C:\\dharun\\object_detection\\TFODCourse\\Tensorflow\\workspace\\images\\collectedimages\\thumbsdown\\thumbsdown.98c8b981-2897-11ee-9897-0045e2325396.jpg -> Annotation:C:/dharun/object_detection/TFODCourse/Tensorflow/workspace/images/collectedimages/thumbsdown\\thumbsdown.98c8b981-2897-11ee-9897-0045e2325396.xml\n",
      "Image:C:\\dharun\\object_detection\\TFODCourse\\Tensorflow\\workspace\\images\\collectedimages\\thumbsdown\\thumbsdown.97907ed8-2897-11ee-be8f-0045e2325396.jpg -> Annotation:C:/dharun/object_detection/TFODCourse/Tensorflow/workspace/images/collectedimages/thumbsdown\\thumbsdown.97907ed8-2897-11ee-be8f-0045e2325396.xml\n",
      "Image:C:\\dharun\\object_detection\\TFODCourse\\Tensorflow\\workspace\\images\\collectedimages\\thumbsdown\\thumbsdown.96582232-2897-11ee-8cab-0045e2325396.jpg -> Annotation:C:/dharun/object_detection/TFODCourse/Tensorflow/workspace/images/collectedimages/thumbsdown\\thumbsdown.96582232-2897-11ee-8cab-0045e2325396.xml\n",
      "Image:C:\\dharun\\object_detection\\TFODCourse\\Tensorflow\\workspace\\images\\collectedimages\\thumbsup\\thumbsup.8c54975c-2897-11ee-b93d-0045e2325396.jpg -> Annotation:C:/dharun/object_detection/TFODCourse/Tensorflow/workspace/images/collectedimages/thumbsup\\thumbsup.8c54975c-2897-11ee-b93d-0045e2325396.xml\n",
      "Image:C:\\dharun\\object_detection\\TFODCourse\\Tensorflow\\workspace\\images\\collectedimages\\thumbsup\\thumbsup.8d92f27a-2897-11ee-9ae5-0045e2325396.jpg -> Annotation:C:/dharun/object_detection/TFODCourse/Tensorflow/workspace/images/collectedimages/thumbsup\\thumbsup.8d92f27a-2897-11ee-9ae5-0045e2325396.xml\n",
      "Image:C:\\dharun\\object_detection\\TFODCourse\\Tensorflow\\workspace\\images\\collectedimages\\thumbsup\\thumbsup.8eca59a3-2897-11ee-8c57-0045e2325396.jpg -> Annotation:C:/dharun/object_detection/TFODCourse/Tensorflow/workspace/images/collectedimages/thumbsup\\thumbsup.8eca59a3-2897-11ee-8c57-0045e2325396.xml\n",
      "Image:C:\\dharun\\object_detection\\TFODCourse\\Tensorflow\\workspace\\images\\collectedimages\\thumbsup\\thumbsup.9000ab65-2897-11ee-a09c-0045e2325396.jpg -> Annotation:C:/dharun/object_detection/TFODCourse/Tensorflow/workspace/images/collectedimages/thumbsup\\thumbsup.9000ab65-2897-11ee-a09c-0045e2325396.xml\n",
      "Image:C:\\dharun\\object_detection\\TFODCourse\\Tensorflow\\workspace\\images\\collectedimages\\thumbsup\\thumbsup.913785e6-2897-11ee-865f-0045e2325396.jpg -> Annotation:C:/dharun/object_detection/TFODCourse/Tensorflow/workspace/images/collectedimages/thumbsup\\thumbsup.913785e6-2897-11ee-865f-0045e2325396.xml\n"
     ]
    }
   ],
   "source": [
    "!cd {LABELIMG_PATH} && python labelImg.py"
   ]
  },
  {
   "cell_type": "markdown",
   "metadata": {},
   "source": [
    "# 6. Move them into a Training and Testing Partition"
   ]
  },
  {
   "cell_type": "markdown",
   "metadata": {},
   "source": [
    "# OPTIONAL - 7. Compress them for Colab Training"
   ]
  },
  {
   "cell_type": "code",
   "execution_count": 20,
   "metadata": {},
   "outputs": [],
   "source": [
    "TRAIN_PATH = os.path.join('Tensorflow', 'workspace', 'images', 'train')\n",
    "TEST_PATH = os.path.join('Tensorflow', 'workspace', 'images', 'test')\n",
    "ARCHIVE_PATH = os.path.join('Tensorflow', 'workspace', 'images', 'archive.tar.gz')"
   ]
  },
  {
   "cell_type": "code",
   "execution_count": 21,
   "metadata": {},
   "outputs": [],
   "source": [
    "!tar -czf {ARCHIVE_PATH} {TRAIN_PATH} {TEST_PATH}"
   ]
  },
  {
   "cell_type": "code",
   "execution_count": null,
   "metadata": {},
   "outputs": [],
   "source": []
  }
 ],
 "metadata": {
  "kernelspec": {
   "display_name": "tfod2",
   "language": "python",
   "name": "tfod2"
  },
  "language_info": {
   "codemirror_mode": {
    "name": "ipython",
    "version": 3
   },
   "file_extension": ".py",
   "mimetype": "text/x-python",
   "name": "python",
   "nbconvert_exporter": "python",
   "pygments_lexer": "ipython3",
   "version": "3.10.0"
  }
 },
 "nbformat": 4,
 "nbformat_minor": 4
}
